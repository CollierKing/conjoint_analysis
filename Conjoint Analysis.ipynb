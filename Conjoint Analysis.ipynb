{
 "cells": [
  {
   "cell_type": "raw",
   "metadata": {},
   "source": [
    "<style>\n",
    "    .yourDiv {position: fixed;top: 0px; left: 200px; background: transparent;height: 20%;width: 20%; padding: 5px; z-index: 10000}\n",
    "</style>\n",
    "\n",
    "<!--\n",
    "HTML code to create the sidebar, menu and independent popup window.\n",
    "-->\n",
    "\n",
    "<script>\n",
    "function showthis(url) {\n",
    "\twindow.open(url, \"pres\", \"toolbar=yes,scrollbars=yes,resizable=yes,top=10,left=400,width=500,height=500\");\n",
    "\treturn(false);\n",
    "}\n",
    "</script>\n",
    "\n",
    "<div class=yourDiv>\n",
    "    <form action=\"javascript:code_toggle()\"><input type=\"submit\" id=\"toggleButton\" value=\"Show Code\"></form>\n",
    "</div>"
   ]
  },
  {
   "cell_type": "raw",
   "metadata": {},
   "source": [
    "<!--\n",
    "Creates pre-loader and 'hide code' button\n",
    "-->\n",
    "\n",
    "<script>\n",
    "  jQuery(document).ready(function($) {\n",
    "\n",
    "  $(window).load(function(){\n",
    "    $('#preloader').fadeOut('slow',function(){$(this).remove();});\n",
    "  });\n",
    "\n",
    "  });\n",
    "</script>\n",
    "\n",
    "<style type=\"text/css\">\n",
    "  div#preloader { position: fixed;\n",
    "      left: 0;\n",
    "      top: 0;\n",
    "      z-index: 999;\n",
    "      padding: 5px;\n",
    "      width: 100%;\n",
    "      height: 100%;\n",
    "      overflow: visible;\n",
    "      background: #fff url('http://preloaders.net/preloaders/720/Moving%20line.gif') no-repeat center center;\n",
    "  }\n",
    "</style>\n",
    "\n",
    "<div id=\"preloader\"></div>\n",
    "\n",
    "<script>\n",
    "  function code_toggle() {\n",
    "    if (code_shown){\n",
    "      $('div.input').hide('500');\n",
    "      $('#toggleButton').val('Show Code')\n",
    "    } else {\n",
    "      $('div.input').show('500');\n",
    "      $('#toggleButton').val('Hide Code')\n",
    "    }\n",
    "    code_shown = !code_shown\n",
    "  }\n",
    "\n",
    "  $( document ).ready(function(){\n",
    "    code_shown=false;\n",
    "    $('div.input').hide()\n",
    "  });\n",
    "</script>"
   ]
  },
  {
   "cell_type": "raw",
   "metadata": {},
   "source": [
    "<!--\n",
    "Remove notebook shadow border\n",
    "-->\n",
    "<style>\n",
    "\n",
    "#notebook-container {\n",
    "    box-shadow: none;\n",
    "    -webkit-box-shadow: none\n",
    "}\n",
    "\n",
    "</style>"
   ]
  },
  {
   "cell_type": "raw",
   "metadata": {},
   "source": [
    "<style>\n",
    "div.prompt {display:none}\n",
    "</style>"
   ]
  },
  {
   "cell_type": "raw",
   "metadata": {},
   "source": [
    "<img src=\"figures/commerce.jpg\" alt=\"hi\" class=\"inline\"/>"
   ]
  },
  {
   "cell_type": "markdown",
   "metadata": {},
   "source": [
    "# Conjoint Analysis"
   ]
  },
  {
   "cell_type": "markdown",
   "metadata": {},
   "source": [
    "# Introduction"
   ]
  },
  {
   "cell_type": "markdown",
   "metadata": {},
   "source": [
    "**Conjoint Analysis** is technique used by market researchers to statistically determine the value consumers place on different attributes of a product or service. Conjoint analysis uses linear regression to extract the importances of features customers have and ties a monetary value to these preferences.  Conjoint analysis can be used to perform two general functions, which will be the **objectives of this analysis:**\n",
    "* Calculate \\$ values customers place on product features\n",
    "* Determine different market segments for product differentiation"
   ]
  },
  {
   "cell_type": "code",
   "execution_count": 265,
   "metadata": {},
   "outputs": [],
   "source": [
    "library(dplyr)\n",
    "library(tidyr)\n",
    "library(broom)\n",
    "\n",
    "options(warn=0)"
   ]
  },
  {
   "cell_type": "markdown",
   "metadata": {},
   "source": [
    "# Problem Data"
   ]
  },
  {
   "cell_type": "markdown",
   "metadata": {},
   "source": [
    "In this analysis, we will use R to conduct a conjoint analysis on fictional survey data obtained from respondents asked to rate different travel packages with varying attributes.\n",
    "\n",
    "Our data comprises survey responses from 50 respondents who were asked to rate (from 1 to 10), their preference for a combination of train ride features.  There are four features a train ticket can have, each with 2 levels:\n",
    "* Hours (Duration of the Trip)\n",
    " * 5 hours (shorter trip)\n",
    " * 7 hours (longer trip)\n",
    "* Price ($ per ticket)\n",
    " * \\$200 (low price)\n",
    " * \\$350 (high price)\n",
    "* Food Option\n",
    " * Gourmet entree\n",
    " * Simple snack\n",
    "* Seating Quality\n",
    " * Premium seating\n",
    " * Standard seating\n",
    "\n",
    "Taking a look at the data, we have an ID for the survey respondent and a profile for a given product.  The profile is simply the combination of the different product attributes.  We have the following number of profiles shown to each customer.\n",
    "\n",
    "* Hours (2 levels) \\* Price (2 levels) \\* Food (2 levels) \\* Seat (2 levels):\n",
    "    * 2^4 = 16 product profiles rated by each customer\n",
    "    \n",
    "This results in an **orthogonal matrix**, where any pair of attribute levels appears the same number of times.  Such a design is a prerequisite for conjoint analysis."
   ]
  },
  {
   "cell_type": "code",
   "execution_count": 266,
   "metadata": {
    "collapsed": true
   },
   "outputs": [],
   "source": [
    "survey_data = read.csv(\"https://raw.githubusercontent.com/CollierKing/academic_exercises/master/conjoint_analysis/conjoint_survey.csv\")"
   ]
  },
  {
   "cell_type": "code",
   "execution_count": 267,
   "metadata": {
    "scrolled": true
   },
   "outputs": [
    {
     "data": {
      "text/html": [
       "<table>\n",
       "<thead><tr><th scope=col>PersonID</th><th scope=col>Profile</th><th scope=col>Hours</th><th scope=col>Price</th><th scope=col>Food</th><th scope=col>Seat</th><th scope=col>Rating</th></tr></thead>\n",
       "<tbody>\n",
       "\t<tr><td>1       </td><td> 1      </td><td>7       </td><td>200     </td><td>Snack   </td><td>Premium </td><td> 3      </td></tr>\n",
       "\t<tr><td>1       </td><td> 2      </td><td>5       </td><td>350     </td><td>Gourmet </td><td>Standard</td><td> 7      </td></tr>\n",
       "\t<tr><td>1       </td><td> 3      </td><td>7       </td><td>200     </td><td>Gourmet </td><td>Standard</td><td> 6      </td></tr>\n",
       "\t<tr><td>1       </td><td> 4      </td><td>7       </td><td>350     </td><td>Snack   </td><td>Standard</td><td> 1      </td></tr>\n",
       "\t<tr><td>1       </td><td> 5      </td><td>5       </td><td>350     </td><td>Snack   </td><td>Premium </td><td> 7      </td></tr>\n",
       "\t<tr><td>1       </td><td> 6      </td><td>7       </td><td>350     </td><td>Gourmet </td><td>Premium </td><td> 3      </td></tr>\n",
       "\t<tr><td>1       </td><td> 7      </td><td>5       </td><td>200     </td><td>Snack   </td><td>Premium </td><td>10      </td></tr>\n",
       "\t<tr><td>1       </td><td> 8      </td><td>5       </td><td>200     </td><td>Snack   </td><td>Standard</td><td> 8      </td></tr>\n",
       "\t<tr><td>1       </td><td> 9      </td><td>5       </td><td>350     </td><td>Gourmet </td><td>Premium </td><td> 9      </td></tr>\n",
       "\t<tr><td>1       </td><td>10      </td><td>7       </td><td>350     </td><td>Snack   </td><td>Premium </td><td> 1      </td></tr>\n",
       "\t<tr><td>1       </td><td>11      </td><td>7       </td><td>200     </td><td>Snack   </td><td>Standard</td><td> 4      </td></tr>\n",
       "\t<tr><td>1       </td><td>12      </td><td>7       </td><td>350     </td><td>Gourmet </td><td>Standard</td><td> 3      </td></tr>\n",
       "\t<tr><td>1       </td><td>13      </td><td>7       </td><td>200     </td><td>Gourmet </td><td>Premium </td><td> 6      </td></tr>\n",
       "\t<tr><td>1       </td><td>14      </td><td>5       </td><td>200     </td><td>Gourmet </td><td>Premium </td><td>10      </td></tr>\n",
       "\t<tr><td>1       </td><td>15      </td><td>5       </td><td>350     </td><td>Snack   </td><td>Standard</td><td> 5      </td></tr>\n",
       "\t<tr><td>1       </td><td>16      </td><td>5       </td><td>200     </td><td>Gourmet </td><td>Standard</td><td>10      </td></tr>\n",
       "</tbody>\n",
       "</table>\n"
      ],
      "text/latex": [
       "\\begin{tabular}{r|lllllll}\n",
       " PersonID & Profile & Hours & Price & Food & Seat & Rating\\\\\n",
       "\\hline\n",
       "\t 1        &  1       & 7        & 200      & Snack    & Premium  &  3      \\\\\n",
       "\t 1        &  2       & 5        & 350      & Gourmet  & Standard &  7      \\\\\n",
       "\t 1        &  3       & 7        & 200      & Gourmet  & Standard &  6      \\\\\n",
       "\t 1        &  4       & 7        & 350      & Snack    & Standard &  1      \\\\\n",
       "\t 1        &  5       & 5        & 350      & Snack    & Premium  &  7      \\\\\n",
       "\t 1        &  6       & 7        & 350      & Gourmet  & Premium  &  3      \\\\\n",
       "\t 1        &  7       & 5        & 200      & Snack    & Premium  & 10      \\\\\n",
       "\t 1        &  8       & 5        & 200      & Snack    & Standard &  8      \\\\\n",
       "\t 1        &  9       & 5        & 350      & Gourmet  & Premium  &  9      \\\\\n",
       "\t 1        & 10       & 7        & 350      & Snack    & Premium  &  1      \\\\\n",
       "\t 1        & 11       & 7        & 200      & Snack    & Standard &  4      \\\\\n",
       "\t 1        & 12       & 7        & 350      & Gourmet  & Standard &  3      \\\\\n",
       "\t 1        & 13       & 7        & 200      & Gourmet  & Premium  &  6      \\\\\n",
       "\t 1        & 14       & 5        & 200      & Gourmet  & Premium  & 10      \\\\\n",
       "\t 1        & 15       & 5        & 350      & Snack    & Standard &  5      \\\\\n",
       "\t 1        & 16       & 5        & 200      & Gourmet  & Standard & 10      \\\\\n",
       "\\end{tabular}\n"
      ],
      "text/markdown": [
       "\n",
       "PersonID | Profile | Hours | Price | Food | Seat | Rating | \n",
       "|---|---|---|---|---|---|---|---|---|---|---|---|---|---|---|---|\n",
       "| 1        |  1       | 7        | 200      | Snack    | Premium  |  3       | \n",
       "| 1        |  2       | 5        | 350      | Gourmet  | Standard |  7       | \n",
       "| 1        |  3       | 7        | 200      | Gourmet  | Standard |  6       | \n",
       "| 1        |  4       | 7        | 350      | Snack    | Standard |  1       | \n",
       "| 1        |  5       | 5        | 350      | Snack    | Premium  |  7       | \n",
       "| 1        |  6       | 7        | 350      | Gourmet  | Premium  |  3       | \n",
       "| 1        |  7       | 5        | 200      | Snack    | Premium  | 10       | \n",
       "| 1        |  8       | 5        | 200      | Snack    | Standard |  8       | \n",
       "| 1        |  9       | 5        | 350      | Gourmet  | Premium  |  9       | \n",
       "| 1        | 10       | 7        | 350      | Snack    | Premium  |  1       | \n",
       "| 1        | 11       | 7        | 200      | Snack    | Standard |  4       | \n",
       "| 1        | 12       | 7        | 350      | Gourmet  | Standard |  3       | \n",
       "| 1        | 13       | 7        | 200      | Gourmet  | Premium  |  6       | \n",
       "| 1        | 14       | 5        | 200      | Gourmet  | Premium  | 10       | \n",
       "| 1        | 15       | 5        | 350      | Snack    | Standard |  5       | \n",
       "| 1        | 16       | 5        | 200      | Gourmet  | Standard | 10       | \n",
       "\n",
       "\n"
      ],
      "text/plain": [
       "   PersonID Profile Hours Price Food    Seat     Rating\n",
       "1  1         1      7     200   Snack   Premium   3    \n",
       "2  1         2      5     350   Gourmet Standard  7    \n",
       "3  1         3      7     200   Gourmet Standard  6    \n",
       "4  1         4      7     350   Snack   Standard  1    \n",
       "5  1         5      5     350   Snack   Premium   7    \n",
       "6  1         6      7     350   Gourmet Premium   3    \n",
       "7  1         7      5     200   Snack   Premium  10    \n",
       "8  1         8      5     200   Snack   Standard  8    \n",
       "9  1         9      5     350   Gourmet Premium   9    \n",
       "10 1        10      7     350   Snack   Premium   1    \n",
       "11 1        11      7     200   Snack   Standard  4    \n",
       "12 1        12      7     350   Gourmet Standard  3    \n",
       "13 1        13      7     200   Gourmet Premium   6    \n",
       "14 1        14      5     200   Gourmet Premium  10    \n",
       "15 1        15      5     350   Snack   Standard  5    \n",
       "16 1        16      5     200   Gourmet Standard 10    "
      ]
     },
     "metadata": {},
     "output_type": "display_data"
    }
   ],
   "source": [
    "head(survey_data,16)"
   ]
  },
  {
   "cell_type": "markdown",
   "metadata": {},
   "source": [
    "Before we begin our analysis, let's make some minor data transformations, we will create dummy variables for our variables."
   ]
  },
  {
   "cell_type": "code",
   "execution_count": 268,
   "metadata": {
    "collapsed": true
   },
   "outputs": [],
   "source": [
    "#Create dummy variables\n",
    "survey_data$gourm_flag <- as.factor(ifelse(survey_data$Food==\"Gourmet\",1,0))\n",
    "survey_data$prem_flag <- as.factor(ifelse(survey_data$Seat==\"Premium\",1,0))\n",
    "survey_data$hrs_low <- as.factor(ifelse(survey_data$Hours==5,1,0))\n",
    "survey_data$price_low <- as.factor(ifelse(survey_data$Price==200,1,0))\n",
    "\n",
    "survey_data %>%\n",
    "select(\n",
    "    PersonID,Rating,gourm_flag,prem_flag,hrs_low,price_low\n",
    ") -> survey_data"
   ]
  },
  {
   "cell_type": "markdown",
   "metadata": {},
   "source": [
    "Now we have purely categorical independent variables to regress against our independent variable (Rating).  You will notice that we manually selected the important class of each binary variable.  The rationale for deciding this depends on which option the consumer would inherently prefer and is explained below:\n",
    "* Gourmet food (Important) vs snack (Baseline)\n",
    "    * Gourmet food costs more versus snacks\n",
    "* Premum seating (Important) vs standard seating (Baseline)\n",
    "    * Higher quality seating will cost more versus standard seating\n",
    "* Short trip (Important) vs long trip (Baseline)\n",
    "    * Faster trains will cost more than slower trains\n",
    "* Low price (Important) vs high price (Baseline)\n",
    "    * Economic value may be derived from lower-priced goods & services"
   ]
  },
  {
   "cell_type": "code",
   "execution_count": 269,
   "metadata": {},
   "outputs": [
    {
     "data": {
      "text/html": [
       "<table>\n",
       "<thead><tr><th scope=col>PersonID</th><th scope=col>Rating</th><th scope=col>gourm_flag</th><th scope=col>prem_flag</th><th scope=col>hrs_low</th><th scope=col>price_low</th></tr></thead>\n",
       "<tbody>\n",
       "\t<tr><td>1</td><td>3</td><td>0</td><td>1</td><td>0</td><td>1</td></tr>\n",
       "\t<tr><td>1</td><td>7</td><td>1</td><td>0</td><td>1</td><td>0</td></tr>\n",
       "\t<tr><td>1</td><td>6</td><td>1</td><td>0</td><td>0</td><td>1</td></tr>\n",
       "\t<tr><td>1</td><td>1</td><td>0</td><td>0</td><td>0</td><td>0</td></tr>\n",
       "\t<tr><td>1</td><td>7</td><td>0</td><td>1</td><td>1</td><td>0</td></tr>\n",
       "\t<tr><td>1</td><td>3</td><td>1</td><td>1</td><td>0</td><td>0</td></tr>\n",
       "</tbody>\n",
       "</table>\n"
      ],
      "text/latex": [
       "\\begin{tabular}{r|llllll}\n",
       " PersonID & Rating & gourm\\_flag & prem\\_flag & hrs\\_low & price\\_low\\\\\n",
       "\\hline\n",
       "\t 1 & 3 & 0 & 1 & 0 & 1\\\\\n",
       "\t 1 & 7 & 1 & 0 & 1 & 0\\\\\n",
       "\t 1 & 6 & 1 & 0 & 0 & 1\\\\\n",
       "\t 1 & 1 & 0 & 0 & 0 & 0\\\\\n",
       "\t 1 & 7 & 0 & 1 & 1 & 0\\\\\n",
       "\t 1 & 3 & 1 & 1 & 0 & 0\\\\\n",
       "\\end{tabular}\n"
      ],
      "text/markdown": [
       "\n",
       "PersonID | Rating | gourm_flag | prem_flag | hrs_low | price_low | \n",
       "|---|---|---|---|---|---|\n",
       "| 1 | 3 | 0 | 1 | 0 | 1 | \n",
       "| 1 | 7 | 1 | 0 | 1 | 0 | \n",
       "| 1 | 6 | 1 | 0 | 0 | 1 | \n",
       "| 1 | 1 | 0 | 0 | 0 | 0 | \n",
       "| 1 | 7 | 0 | 1 | 1 | 0 | \n",
       "| 1 | 3 | 1 | 1 | 0 | 0 | \n",
       "\n",
       "\n"
      ],
      "text/plain": [
       "  PersonID Rating gourm_flag prem_flag hrs_low price_low\n",
       "1 1        3      0          1         0       1        \n",
       "2 1        7      1          0         1       0        \n",
       "3 1        6      1          0         0       1        \n",
       "4 1        1      0          0         0       0        \n",
       "5 1        7      0          1         1       0        \n",
       "6 1        3      1          1         0       0        "
      ]
     },
     "metadata": {},
     "output_type": "display_data"
    }
   ],
   "source": [
    "head(survey_data)"
   ]
  },
  {
   "cell_type": "markdown",
   "metadata": {},
   "source": [
    "# Part-Worths & Relative Importances"
   ]
  },
  {
   "cell_type": "markdown",
   "metadata": {},
   "source": [
    "We first cover something called **part-worth**, which is the utility a customer places on a product attribute.  Part-worths are the coefficients of our product features in our linear regression model.\n",
    "\n",
    "Let's take a look at the first respondent.  To determine the part-worths of this respondent, we run a linear regression where the dependent variable is the rating and the four categories he has to choose from are the independent variables."
   ]
  },
  {
   "cell_type": "markdown",
   "metadata": {},
   "source": [
    "Below are the part-worths for the first survey respondent."
   ]
  },
  {
   "cell_type": "code",
   "execution_count": 270,
   "metadata": {
    "collapsed": true
   },
   "outputs": [],
   "source": [
    "survey_data %>%\n",
    "filter(\n",
    "    PersonID == 1\n",
    ") %>%\n",
    "select(\n",
    "    Rating,gourm_flag,prem_flag,hrs_low,price_low\n",
    ") %>%\n",
    "lm(Rating~.,data=.) -> fit"
   ]
  },
  {
   "cell_type": "code",
   "execution_count": 271,
   "metadata": {},
   "outputs": [
    {
     "data": {
      "text/html": [
       "<table>\n",
       "<thead><tr><th scope=col>term</th><th scope=col>estimate</th></tr></thead>\n",
       "<tbody>\n",
       "\t<tr><td>(Intercept)</td><td>0.8125     </td></tr>\n",
       "\t<tr><td>gourm_flag1</td><td>1.8750     </td></tr>\n",
       "\t<tr><td>prem_flag1 </td><td>0.6250     </td></tr>\n",
       "\t<tr><td>hrs_low1   </td><td>4.8750     </td></tr>\n",
       "\t<tr><td>price_low1 </td><td>2.6250     </td></tr>\n",
       "</tbody>\n",
       "</table>\n"
      ],
      "text/latex": [
       "\\begin{tabular}{r|ll}\n",
       " term & estimate\\\\\n",
       "\\hline\n",
       "\t (Intercept) & 0.8125     \\\\\n",
       "\t gourm\\_flag1 & 1.8750       \\\\\n",
       "\t prem\\_flag1  & 0.6250       \\\\\n",
       "\t hrs\\_low1    & 4.8750       \\\\\n",
       "\t price\\_low1  & 2.6250       \\\\\n",
       "\\end{tabular}\n"
      ],
      "text/markdown": [
       "\n",
       "term | estimate | \n",
       "|---|---|---|---|---|\n",
       "| (Intercept) | 0.8125      | \n",
       "| gourm_flag1 | 1.8750      | \n",
       "| prem_flag1  | 0.6250      | \n",
       "| hrs_low1    | 4.8750      | \n",
       "| price_low1  | 2.6250      | \n",
       "\n",
       "\n"
      ],
      "text/plain": [
       "  term        estimate\n",
       "1 (Intercept) 0.8125  \n",
       "2 gourm_flag1 1.8750  \n",
       "3 prem_flag1  0.6250  \n",
       "4 hrs_low1    4.8750  \n",
       "5 price_low1  2.6250  "
      ]
     },
     "metadata": {},
     "output_type": "display_data"
    }
   ],
   "source": [
    "fit %>% \n",
    "tidy() %>%\n",
    "select(term,estimate)"
   ]
  },
  {
   "cell_type": "markdown",
   "metadata": {},
   "source": [
    "**Relative Importances** are simply the percentage of each of the part-worth (coefficient) of the absolute sum of all part worths.  We can see that for this customer, the travel time is the most important attribute (48.75%) followed by price (26.25%)."
   ]
  },
  {
   "cell_type": "code",
   "execution_count": 272,
   "metadata": {},
   "outputs": [
    {
     "data": {
      "text/html": [
       "<table>\n",
       "<thead><tr><th scope=col>term</th><th scope=col>relative_importance</th></tr></thead>\n",
       "<tbody>\n",
       "\t<tr><td>gourm_flag1</td><td>0.1875     </td></tr>\n",
       "\t<tr><td>hrs_low1   </td><td>0.4875     </td></tr>\n",
       "\t<tr><td>prem_flag1 </td><td>0.0625     </td></tr>\n",
       "\t<tr><td>price_low1 </td><td>0.2625     </td></tr>\n",
       "</tbody>\n",
       "</table>\n"
      ],
      "text/latex": [
       "\\begin{tabular}{r|ll}\n",
       " term & relative\\_importance\\\\\n",
       "\\hline\n",
       "\t gourm\\_flag1 & 0.1875       \\\\\n",
       "\t hrs\\_low1    & 0.4875       \\\\\n",
       "\t prem\\_flag1  & 0.0625       \\\\\n",
       "\t price\\_low1  & 0.2625       \\\\\n",
       "\\end{tabular}\n"
      ],
      "text/markdown": [
       "\n",
       "term | relative_importance | \n",
       "|---|---|---|---|\n",
       "| gourm_flag1 | 0.1875      | \n",
       "| hrs_low1    | 0.4875      | \n",
       "| prem_flag1  | 0.0625      | \n",
       "| price_low1  | 0.2625      | \n",
       "\n",
       "\n"
      ],
      "text/plain": [
       "  term        relative_importance\n",
       "1 gourm_flag1 0.1875             \n",
       "2 hrs_low1    0.4875             \n",
       "3 prem_flag1  0.0625             \n",
       "4 price_low1  0.2625             "
      ]
     },
     "metadata": {},
     "output_type": "display_data"
    }
   ],
   "source": [
    "fit %>% \n",
    "tidy() %>%\n",
    "select(term,estimate) %>%\n",
    "filter(term!=\"(Intercept)\") %>%\n",
    "mutate(total = sum(abs(estimate))) %>%\n",
    "group_by(term) %>%\n",
    "summarise(relative_importance = abs(estimate)/total)"
   ]
  },
  {
   "cell_type": "markdown",
   "metadata": {},
   "source": [
    "## Assigning $ Values"
   ]
  },
  {
   "cell_type": "markdown",
   "metadata": {},
   "source": [
    "So we know how much utility a customer places on each of our four attributes, but how can we translate this into $ terms to make actual business decisions?\n",
    "\n",
    "To accomplish this, we need to compute a $/utility exchange rate for our part-worths.  It is important to note that this is only possible if we engineered our survey in a way that includes price as a product attribute.\n",
    "\n",
    "Luckily, we did do this by including two price levels for the consumer to rate (\\$350 and \\$200) and so we can perform the following to calculate our exchange rate and assign $ values.  \n",
    "\n",
    "We find that the following exchange rate and $ values for our part-worths:"
   ]
  },
  {
   "cell_type": "code",
   "execution_count": 273,
   "metadata": {},
   "outputs": [
    {
     "name": "stdout",
     "output_type": "stream",
     "text": [
      "[1] \"exchange rate: $57.1428571428572\"\n"
     ]
    }
   ],
   "source": [
    "# pull ticket price difference\n",
    "price_difference <- abs(350 - 200 )\n",
    "\n",
    "# pull regression results\n",
    "fit %>% \n",
    "tidy() %>%\n",
    "select(term,estimate) %>%\n",
    "# find coefficient of price attribute\n",
    "filter(\n",
    "    term == \"price_low1\"\n",
    ") %>%\n",
    "mutate(\n",
    "    # divide ticket price difference by price coefficient to calculate exchange rate\n",
    "    exch_rate = price_difference/abs(estimate)\n",
    ") %>%\n",
    "select(exch_rate) -> exch_rate\n",
    "exch_rate <- as.numeric(exch_rate)\n",
    "\n",
    "print(paste0(\"exchange rate: $\",exch_rate))"
   ]
  },
  {
   "cell_type": "code",
   "execution_count": 274,
   "metadata": {},
   "outputs": [
    {
     "data": {
      "text/html": [
       "<table>\n",
       "<thead><tr><th scope=col>term</th><th scope=col>estimate</th><th scope=col>part_worth_values</th></tr></thead>\n",
       "<tbody>\n",
       "\t<tr><td>gourm_flag1</td><td>1.875      </td><td>107.14286  </td></tr>\n",
       "\t<tr><td>prem_flag1 </td><td>0.625      </td><td> 35.71429  </td></tr>\n",
       "\t<tr><td>hrs_low1   </td><td>4.875      </td><td>278.57143  </td></tr>\n",
       "\t<tr><td>price_low1 </td><td>2.625      </td><td>150.00000  </td></tr>\n",
       "</tbody>\n",
       "</table>\n"
      ],
      "text/latex": [
       "\\begin{tabular}{r|lll}\n",
       " term & estimate & part\\_worth\\_values\\\\\n",
       "\\hline\n",
       "\t gourm\\_flag1 & 1.875         & 107.14286    \\\\\n",
       "\t prem\\_flag1  & 0.625         &  35.71429    \\\\\n",
       "\t hrs\\_low1    & 4.875         & 278.57143    \\\\\n",
       "\t price\\_low1  & 2.625         & 150.00000    \\\\\n",
       "\\end{tabular}\n"
      ],
      "text/markdown": [
       "\n",
       "term | estimate | part_worth_values | \n",
       "|---|---|---|---|\n",
       "| gourm_flag1 | 1.875       | 107.14286   | \n",
       "| prem_flag1  | 0.625       |  35.71429   | \n",
       "| hrs_low1    | 4.875       | 278.57143   | \n",
       "| price_low1  | 2.625       | 150.00000   | \n",
       "\n",
       "\n"
      ],
      "text/plain": [
       "  term        estimate part_worth_values\n",
       "1 gourm_flag1 1.875    107.14286        \n",
       "2 prem_flag1  0.625     35.71429        \n",
       "3 hrs_low1    4.875    278.57143        \n",
       "4 price_low1  2.625    150.00000        "
      ]
     },
     "metadata": {},
     "output_type": "display_data"
    }
   ],
   "source": [
    "#apply exchange rate to non-price attribute part-worths\n",
    "fit %>% \n",
    "tidy() %>%\n",
    "select(term,estimate) %>%\n",
    "filter(\n",
    "    !term %in% c(\"(Intercept)\")\n",
    ") %>%\n",
    "mutate(\n",
    "    part_worth_values = abs(estimate) * exch_rate\n",
    ")"
   ]
  },
  {
   "cell_type": "markdown",
   "metadata": {},
   "source": [
    "# Analysis on All Respondents"
   ]
  },
  {
   "cell_type": "markdown",
   "metadata": {},
   "source": [
    "Now, it is important to note that the part-worth dollar values we found above were only for one respondent.  Other respondents will have different part-worths, relative importances and exchange rates.  Since we want as broad a picture of our market as possible, let's expand our analysis to look at all 50 of our respondents."
   ]
  },
  {
   "cell_type": "code",
   "execution_count": 107,
   "metadata": {},
   "outputs": [],
   "source": [
    "resp_list <- as.data.frame(unique((survey_data$PersonID)))\n",
    "\n",
    "for (i in 1:nrow(resp_list)) {   \n",
    "    \n",
    "    #part worths\n",
    "    survey_data %>%\n",
    "    filter(\n",
    "        PersonID == i) %>%\n",
    "    select(\n",
    "        Rating,gourm_flag,prem_flag,hrs_low,price_low\n",
    "    ) %>%\n",
    "    lm(Rating~.,data=.) -> fit\n",
    "    \n",
    "    fit %>%\n",
    "    tidy() %>%\n",
    "    select(term,estimate) %>%\n",
    "    filter(term!=\"(Intercept)\") %>%\n",
    "    spread(term,estimate) -> part_worths\n",
    "    colnames(part_worths) <- paste(\"pw\", colnames(part_worths), sep = \"_\")\n",
    "    \n",
    "    #dollar value of part worths\n",
    "    # pull regression results\n",
    "    fit %>% \n",
    "    tidy() %>%\n",
    "    select(term,estimate) %>%\n",
    "    # find coefficient of price attribute\n",
    "    filter(\n",
    "        term == \"price_low1\"\n",
    "    ) %>%\n",
    "    mutate(\n",
    "        # divide ticket price difference by price coefficient to calculate exchange rate\n",
    "        exch_rate = price_difference/abs(estimate)\n",
    "    ) %>%\n",
    "    select(exch_rate) -> exch_rate\n",
    "    exch_rate <- as.numeric(exch_rate)\n",
    "    \n",
    "    #apply exchange rate to non-price attribute part-worths\n",
    "    fit %>% \n",
    "    tidy() %>%\n",
    "    select(term,estimate) %>%\n",
    "    filter(\n",
    "        !term %in% c(\"(Intercept)\")\n",
    "    ) %>%\n",
    "    mutate(\n",
    "        part_worth_values = abs(estimate) * exch_rate\n",
    "    ) %>%\n",
    "    select(term,part_worth_values) %>%\n",
    "    spread(term,part_worth_values) -> part_worth_vals\n",
    "    colnames(part_worth_vals) <- paste(\"pw_$_\", colnames(part_worth_vals), sep = \"_\")\n",
    "\n",
    "    #relative importances\n",
    "    part_worths %>%\n",
    "    gather(term,estimate) %>%\n",
    "    mutate(term = gsub(\"pw_\",\"\",term)) %>%\n",
    "    mutate(total = sum(abs(estimate))) %>%\n",
    "    group_by(term) %>%\n",
    "    summarise(relative_importance = abs(estimate)/total) %>% \n",
    "    spread(term,relative_importance) -> relative_importances\n",
    "    colnames(relative_importances) <- paste(\"ri\", colnames(relative_importances), sep = \"_\")\n",
    "    \n",
    "    tgt <- cbind(part_worths,part_worth_vals,relative_importances)\n",
    "    \n",
    "    tgt %>%\n",
    "    mutate(PersonID = i) -> tgt\n",
    "\n",
    "    if(i==1){\n",
    "        \n",
    "        tgt_all <- tgt\n",
    "        \n",
    "    } else {\n",
    "    \n",
    "        tgt_all <- rbind(tgt_all,tgt)\n",
    "    }\n",
    "}"
   ]
  },
  {
   "cell_type": "markdown",
   "metadata": {},
   "source": [
    "## Averages"
   ]
  },
  {
   "cell_type": "markdown",
   "metadata": {},
   "source": [
    "Over the entire survey pool, let's take a look at how our product features compare based on their relative importances and their part-worth values.\n",
    "\n",
    "We see that the attribute with the highest average relative importance and part-worth value is travel time, followed by price.  Meal and seating type have comparably lower importances and values."
   ]
  },
  {
   "cell_type": "code",
   "execution_count": 117,
   "metadata": {},
   "outputs": [
    {
     "data": {
      "text/html": [
       "<table>\n",
       "<thead><tr><th scope=col>Relative Importance</th><th scope=col>Value</th><th scope=col>Part-Worth</th><th scope=col>Value</th></tr></thead>\n",
       "<tbody>\n",
       "\t<tr><td>mean_gourmet_RI  </td><td>0.1288143        </td><td>mean_gourmet_PW  </td><td>105.5431         </td></tr>\n",
       "\t<tr><td>mean_hrs_RI      </td><td>0.4976639        </td><td>mean_hrs_PW      </td><td>367.2673         </td></tr>\n",
       "\t<tr><td>mean_premium_RI  </td><td>0.1044403        </td><td>mean_premium_PW  </td><td>101.2657         </td></tr>\n",
       "\t<tr><td>mean_low_price_RI</td><td>0.2690815        </td><td>mean_low_price_PW</td><td>150.0000         </td></tr>\n",
       "</tbody>\n",
       "</table>\n"
      ],
      "text/latex": [
       "\\begin{tabular}{r|llll}\n",
       " Relative Importance & Value & Part-Worth & Value\\\\\n",
       "\\hline\n",
       "\t mean\\_gourmet\\_RI   & 0.1288143             & mean\\_gourmet\\_PW   & 105.5431             \\\\\n",
       "\t mean\\_hrs\\_RI       & 0.4976639             & mean\\_hrs\\_PW       & 367.2673             \\\\\n",
       "\t mean\\_premium\\_RI   & 0.1044403             & mean\\_premium\\_PW   & 101.2657             \\\\\n",
       "\t mean\\_low\\_price\\_RI & 0.2690815               & mean\\_low\\_price\\_PW & 150.0000               \\\\\n",
       "\\end{tabular}\n"
      ],
      "text/markdown": [
       "\n",
       "Relative Importance | Value | Part-Worth | Value | \n",
       "|---|---|---|---|\n",
       "| mean_gourmet_RI   | 0.1288143         | mean_gourmet_PW   | 105.5431          | \n",
       "| mean_hrs_RI       | 0.4976639         | mean_hrs_PW       | 367.2673          | \n",
       "| mean_premium_RI   | 0.1044403         | mean_premium_PW   | 101.2657          | \n",
       "| mean_low_price_RI | 0.2690815         | mean_low_price_PW | 150.0000          | \n",
       "\n",
       "\n"
      ],
      "text/plain": [
       "  Relative Importance Value     Part-Worth        Value   \n",
       "1 mean_gourmet_RI     0.1288143 mean_gourmet_PW   105.5431\n",
       "2 mean_hrs_RI         0.4976639 mean_hrs_PW       367.2673\n",
       "3 mean_premium_RI     0.1044403 mean_premium_PW   101.2657\n",
       "4 mean_low_price_RI   0.2690815 mean_low_price_PW 150.0000"
      ]
     },
     "metadata": {},
     "output_type": "display_data"
    }
   ],
   "source": [
    "tgt_all %>% \n",
    "summarise(\n",
    "    mean_gourmet_RI = mean(ri_gourm_flag1),\n",
    "    mean_hrs_RI = mean(ri_hrs_low1),\n",
    "    mean_premium_RI = mean(ri_prem_flag1),\n",
    "    mean_low_price_RI = mean(ri_price_low1)\n",
    ") %>% gather() %>%\n",
    "cbind(\n",
    "tgt_all %>% \n",
    "summarise(\n",
    "    mean_gourmet_PW = mean(`pw_$__gourm_flag1`),\n",
    "    mean_hrs_PW = mean(`pw_$__hrs_low1`),\n",
    "    mean_premium_PW = mean(`pw_$__prem_flag1`),\n",
    "    mean_low_price_PW = mean(`pw_$__price_low1`),\n",
    ") %>% gather()) -> tgt_summary\n",
    "\n",
    "colnames(tgt_summary) <- c(\"Relative Importance\",\n",
    "                          \"Value\",\n",
    "                          \"Part-Worth\",\n",
    "                          \"Value\")\n",
    "tgt_summary"
   ]
  },
  {
   "cell_type": "markdown",
   "metadata": {},
   "source": [
    "## Rankings"
   ]
  },
  {
   "cell_type": "markdown",
   "metadata": {},
   "source": [
    "While we have derived the importance of different features based on averages above, it might be worth looking at the distrubition of ratings by rank.\n",
    "\n",
    "We see that 98% of respondents ranked travel time the highest out of the four attributes. Clearly, this is the most important aspect of train travel for our survey sample."
   ]
  },
  {
   "cell_type": "code",
   "execution_count": 121,
   "metadata": {},
   "outputs": [
    {
     "data": {
      "text/html": [
       "<table>\n",
       "<thead><tr><th scope=col>gourm_flag_top</th><th scope=col>hours_low_top</th><th scope=col>prem_flag_top</th><th scope=col>price_low_top</th></tr></thead>\n",
       "<tbody>\n",
       "\t<tr><td>0   </td><td>0.98</td><td>0   </td><td>0.02</td></tr>\n",
       "</tbody>\n",
       "</table>\n"
      ],
      "text/latex": [
       "\\begin{tabular}{r|llll}\n",
       " gourm\\_flag\\_top & hours\\_low\\_top & prem\\_flag\\_top & price\\_low\\_top\\\\\n",
       "\\hline\n",
       "\t 0    & 0.98 & 0    & 0.02\\\\\n",
       "\\end{tabular}\n"
      ],
      "text/markdown": [
       "\n",
       "gourm_flag_top | hours_low_top | prem_flag_top | price_low_top | \n",
       "|---|\n",
       "| 0    | 0.98 | 0    | 0.02 | \n",
       "\n",
       "\n"
      ],
      "text/plain": [
       "  gourm_flag_top hours_low_top prem_flag_top price_low_top\n",
       "1 0              0.98          0             0.02         "
      ]
     },
     "metadata": {},
     "output_type": "display_data"
    }
   ],
   "source": [
    "tgt_all %>%\n",
    "select(\n",
    "    ri_gourm_flag1,ri_hrs_low1,ri_prem_flag1,ri_price_low1\n",
    ") %>%\n",
    "apply(1, rank, ties.method='min') %>% \n",
    "t %>%\n",
    "as.data.frame() -> rankings\n",
    "\n",
    "rankings %>%\n",
    "summarise(\n",
    "    gourm_flag_top = sum(ifelse(ri_gourm_flag1==4,1,0))/nrow(rankings),\n",
    "    hours_low_top = sum(ifelse(ri_hrs_low1==4,1,0))/nrow(rankings),\n",
    "    prem_flag_top = sum(ifelse(ri_prem_flag1==4,1,0))/nrow(rankings),\n",
    "    price_low_top = sum(ifelse(ri_price_low1==4,1,0))/nrow(rankings)\n",
    ")"
   ]
  },
  {
   "cell_type": "markdown",
   "metadata": {},
   "source": [
    "# Segmentation"
   ]
  },
  {
   "cell_type": "markdown",
   "metadata": {},
   "source": [
    "In the following section, we will use the results of our conjoint analysis to partition our surveyed respondents into groups.  This can help us identify how to build products for specific segments and direct price differentiation accordingly.\n",
    "\n",
    "To implement this, we will use two unsupervised machine learning techniques: **K-Means** and **Principal Component Analysis (PCA)** to uncover similarities between our customers based on the respecitive relative importances they placed on product attributes."
   ]
  },
  {
   "cell_type": "markdown",
   "metadata": {},
   "source": [
    "## K-Means Clustering"
   ]
  },
  {
   "cell_type": "markdown",
   "metadata": {},
   "source": [
    "The first question to ask when performing a cluster analysis with K-means is, how many clusters to divide our dataset between?\n",
    "\n",
    "To answer this question we will run K-means ten times on our data, each time with an incrementally higher number of clusters.  During this process we will track the within-cluster sum of squares.  This is sometimes referred to as **distortion**.  \n",
    "\n",
    "A rule of thumb is known as the elbow technique, where we see the \"elbow\" form in the plot is where we should decide on the number of clusters.\n",
    "\n",
    "We see that the elbow becomes evident at around the third cluster mark, so we will use three clusters."
   ]
  },
  {
   "cell_type": "code",
   "execution_count": 275,
   "metadata": {},
   "outputs": [
    {
     "data": {
      "image/png": "[encoded data removed]",
      "text/plain": [
       "Plot with title “Distortion by Cluster Count”"
      ]
     },
     "metadata": {},
     "output_type": "display_data"
    }
   ],
   "source": [
    "tgt_all %>%\n",
    "select(\n",
    "    ri_gourm_flag1,ri_hrs_low1,ri_prem_flag1,ri_price_low1\n",
    ") -> tgt_all_clusters\n",
    "\n",
    "set.seed(123)\n",
    "k.max <- 10\n",
    "data <- tgt_all_clusters\n",
    "wss <- sapply(1:k.max, \n",
    "              function(k){kmeans(data, k, nstart=50,iter.max = 15 )$tot.withinss})\n",
    "\n",
    "plot(1:k.max, wss,\n",
    "     type=\"b\", pch = 19, frame = FALSE, \n",
    "     xlab=\"Number of clusters K\",\n",
    "     ylab=\"Total within-clusters sum of squares\",\n",
    "    main=\"Distortion by Cluster Count\")"
   ]
  },
  {
   "cell_type": "code",
   "execution_count": 253,
   "metadata": {
    "collapsed": true
   },
   "outputs": [],
   "source": [
    "tgt_all_clusters %>%\n",
    "kmeans(3,nstart = 50,iter.max = 15) -> kmm"
   ]
  },
  {
   "cell_type": "markdown",
   "metadata": {},
   "source": [
    "## PCA"
   ]
  },
  {
   "cell_type": "markdown",
   "metadata": {},
   "source": [
    "PCA lets us condense the number of features of our data into 2 dimensions, which can help us visually understand the variation in our data.  We will run PCA on the relaitve importances of the four product attributes in our survey and condense the variability into 2 dimensions."
   ]
  },
  {
   "cell_type": "code",
   "execution_count": 259,
   "metadata": {},
   "outputs": [],
   "source": [
    "tgt_all %>%\n",
    "select(\n",
    "\n",
    "    ri_gourm_flag1,ri_hrs_low1,ri_prem_flag1,ri_price_low1\n",
    ") %>%\n",
    "mutate(\n",
    "    ri_gourm_flag1=log(ri_gourm_flag1),\n",
    "    ri_hrs_low1=log(ri_hrs_low1),\n",
    "    ri_prem_flag1=log(ri_prem_flag1),\n",
    "    ri_price_low1=log(ri_price_low1)\n",
    "    \n",
    ") -> tgt_all_pca\n",
    " \n",
    "set.seed(123)\n",
    "tgt_all_pca %>%\n",
    "prcomp(center = TRUE,scale. = TRUE) -> pca\n",
    "\n",
    "pred <- predict(pca, newdata=tgt_all_pca)\n",
    "pred <- as.data.frame(cbind(pred,kmm$cluster))\n",
    "colnames(pred) <- c(\"PC1\",\"PC2\",\"PC3\",\"PC4\",\"ClusterNum\")"
   ]
  },
  {
   "cell_type": "markdown",
   "metadata": {},
   "source": [
    "## Perceptual Map"
   ]
  },
  {
   "cell_type": "markdown",
   "metadata": {},
   "source": [
    "Now that we have run our PCA and our K-Means to compress the variability of our four product attributes into 2 dimensions and split our customers into three clusters based on this variability, we can create a vizualization known as a perceptual map.\n",
    "\n",
    "A **Perceptual Map** allows us to superimpose observations and attributes together in a 2D coordinate space.  From our plot we see the following:\n",
    "\n",
    "* Three clusters are present\n",
    "* The green cluster places more importance on travel time\n",
    "* The black cluster places more importance on price\n",
    "* The red cluster places more importance on gourmet food and premium seating.\n",
    "\n",
    "**Takeaways:**\n",
    "We appear to have three distinct segments of clusters, each that is more affiliated with a certain product feature.  First, we could design our products to appeal to each segment by creating a faster train package for the segment that values shorter travel times.  Second, we could create an economically valuable, lower-priced train package that appeals to customers who are more price sensitive.  Third, we can create a third package which gives customer access to higher quality seating and food options."
   ]
  },
  {
   "cell_type": "code",
   "execution_count": 262,
   "metadata": {},
   "outputs": [
    {
     "name": "stderr",
     "output_type": "stream",
     "text": [
      "Warning message:\n",
      "“Removed 12 rows containing missing values (geom_point).”"
     ]
    },
    {
     "data": {},
     "metadata": {},
     "output_type": "display_data"
    },
    {
     "data": {
      "image/png": "[encoded data removed]",
      "text/plain": [
       "plot without title"
      ]
     },
     "metadata": {},
     "output_type": "display_data"
    }
   ],
   "source": [
    "require(ggplot2)\n",
    "\n",
    "theta <- seq(0,2*pi,length.out = 100)\n",
    "circle <- data.frame(x = cos(theta), y = sin(theta))\n",
    "\n",
    "p <- ggplot(circle,aes(x,y)) + geom_path()\n",
    "\n",
    "loadings <- data.frame(pca$rotation, .names = row.names(pca$rotation))\n",
    "\n",
    "p + geom_text(data=loadings, mapping=aes(x = PC1, y = PC2, label = .names, colour = .names)) +\n",
    "    coord_fixed(ratio=1) + \n",
    "    labs(x = \"PC1\", y = \"PC2\") + \n",
    "    geom_point(data = pred, aes(x = PC1, y = PC2),color=pred$ClusterNum) +\n",
    "    xlim(-1.5, 1.5) + \n",
    "    ylim(-1.5, 1.5) +\n",
    "    ggtitle(\"Perceptual Map\")"
   ]
  },
  {
   "cell_type": "markdown",
   "metadata": {},
   "source": [
    "# Conclusion"
   ]
  },
  {
   "cell_type": "markdown",
   "metadata": {},
   "source": [
    "In this analysis we have explored the concept of **Conjoint Analysis**.  Specifically, we have seen how this type of analysis can be used to extract the dollar values customers place on product features as well as segment a market based on the relative importances of product attributes.\n",
    "\n",
    "Tools like conjoint analysis are crucial in helping market researchers make product design and pricing decisions.\n",
    "\n",
    "I hope this analysis has made a meaningful contribution to your understanding of market research and related topics like regression, segmentation and unsupervised machine learning techniques.\n",
    "\n",
    "Thanks for reading!\n",
    "-Collier King"
   ]
  }
 ],
 "metadata": {
  "kernelspec": {
   "display_name": "R 3",
   "language": "R",
   "name": "ir32"
  },
  "language_info": {
   "codemirror_mode": "r",
   "file_extension": ".r",
   "mimetype": "text/x-r-source",
   "name": "R",
   "pygments_lexer": "r",
   "version": "3.4.1"
  },
  "toc": {
   "colors": {
    "hover_highlight": "#DAA520",
    "navigate_num": "#000000",
    "navigate_text": "#333333",
    "running_highlight": "#FF0000",
    "selected_highlight": "#FFD700",
    "sidebar_border": "#EEEEEE",
    "wrapper_background": "#FFFFFF"
   },
   "moveMenuLeft": true,
   "nav_menu": {
    "height": "228px",
    "width": "252px"
   },
   "navigate_menu": true,
   "number_sections": true,
   "sideBar": true,
   "threshold": 4,
   "toc_cell": false,
   "toc_position": {
    "height": "802px",
    "left": "0px",
    "right": "1003px",
    "top": "106px",
    "width": "212px"
   },
   "toc_section_display": "block",
   "toc_window_display": true,
   "widenNotebook": false
  }
 },
 "nbformat": 4,
 "nbformat_minor": 2
}
